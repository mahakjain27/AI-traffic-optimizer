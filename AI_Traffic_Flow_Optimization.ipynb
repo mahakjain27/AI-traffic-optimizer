{
  "nbformat": 4,
  "nbformat_minor": 0,
  "metadata": {
    "colab": {
      "provenance": []
    },
    "kernelspec": {
      "name": "python3",
      "display_name": "Python 3"
    },
    "language_info": {
      "name": "python"
    }
  },
  "cells": [
    {
      "cell_type": "markdown",
      "source": [
        "load the data set\n"
      ],
      "metadata": {
        "id": "tdoE9g07KWWg"
      }
    },
    {
      "cell_type": "code",
      "source": [
        "import pandas as pd\n",
        "import h5py"
      ],
      "metadata": {
        "id": "11a6WkDnKVX4"
      },
      "execution_count": null,
      "outputs": []
    },
    {
      "cell_type": "code",
      "source": [
        "# Load traffic data from HDF5 file\n",
        "file_path = \"/content/METR-LA.h5\"  # Update if path is different in Colab\n",
        "with h5py.File(file_path, 'r') as f:\n",
        "    # The dataset stores traffic speed readings from sensors and timestamps\n",
        "    data_group = f['df']  # Get the group named 'df'\n",
        "\n",
        "    # Now access the dataset within the group\n",
        "    data = data_group['block0_values'][:]  # Assuming the data is stored in a key like 'block0_values' based on common HDF5 structures\n",
        "    timestamps = data_group['axis1'][:] # Load timestamps from 'axis1'\n",
        "\n",
        "\n",
        "print(\"Data shape:\", data.shape)\n",
        "print(\"Number of sensors:\", data.shape[1])\n",
        "print(\"Timestamps shape:\", timestamps.shape)"
      ],
      "metadata": {
        "colab": {
          "base_uri": "https://localhost:8080/"
        },
        "id": "NXkkhQprKg4K",
        "outputId": "aa2894d3-d9d3-453a-87b3-cdb0f3268924"
      },
      "execution_count": null,
      "outputs": [
        {
          "output_type": "stream",
          "name": "stdout",
          "text": [
            "Data shape: (34272, 207)\n",
            "Number of sensors: 207\n",
            "Timestamps shape: (34272,)\n"
          ]
        }
      ]
    },
    {
      "cell_type": "code",
      "metadata": {
        "colab": {
          "base_uri": "https://localhost:8080/"
        },
        "id": "63bddb7f",
        "outputId": "1035b653-409b-4af7-9f97-0819b27c2208"
      },
      "source": [
        "# Inspect the keys in the HDF5 file\n",
        "with h5py.File(file_path, 'r') as f:\n",
        "    print(\"Keys available in the HDF5 file:\", list(f.keys()))"
      ],
      "execution_count": null,
      "outputs": [
        {
          "output_type": "stream",
          "name": "stdout",
          "text": [
            "Keys available in the HDF5 file: ['df']\n"
          ]
        }
      ]
    },
    {
      "cell_type": "code",
      "metadata": {
        "colab": {
          "base_uri": "https://localhost:8080/"
        },
        "id": "3ce23c24",
        "outputId": "450603f2-fbd0-4b6c-bca6-f816ff49c9a4"
      },
      "source": [
        "# Inspect the keys within the 'df' group in the HDF5 file\n",
        "file_path = \"/content/METR-LA.h5\"\n",
        "with h5py.File(file_path, 'r') as f:\n",
        "    if 'df' in f:\n",
        "        data_group = f['df']\n",
        "        print(\"Keys available within the 'df' group:\", list(data_group.keys()))\n",
        "    else:\n",
        "        print(\"Group 'df' not found in the HDF5 file.\")"
      ],
      "execution_count": null,
      "outputs": [
        {
          "output_type": "stream",
          "name": "stdout",
          "text": [
            "Keys available within the 'df' group: ['axis0', 'axis1', 'block0_items', 'block0_values']\n"
          ]
        }
      ]
    },
    {
      "cell_type": "code",
      "metadata": {
        "colab": {
          "base_uri": "https://localhost:8080/"
        },
        "id": "03be21ec",
        "outputId": "66b91a01-1810-44dc-9569-61baa1ab54ab"
      },
      "source": [
        "# Inspect the content of 'axis0', 'axis1', and 'block0_items' within the 'df' group\n",
        "file_path = \"/content/METR-LA.h5\"\n",
        "with h5py.File(file_path, 'r') as f:\n",
        "    if 'df' in f:\n",
        "        data_group = f['df']\n",
        "        print(\"Content of 'axis0':\", data_group['axis0'][:])\n",
        "        print(\"\\nContent of 'axis1':\", data_group['axis1'][:])\n",
        "        print(\"\\nContent of 'block0_items':\", data_group['block0_items'][:])\n",
        "    else:\n",
        "        print(\"Group 'df' not found in the HDF5 file.\")"
      ],
      "execution_count": null,
      "outputs": [
        {
          "output_type": "stream",
          "name": "stdout",
          "text": [
            "Content of 'axis0': [b'773869' b'767541' b'767542' b'717447' b'717446' b'717445' b'773062'\n",
            " b'767620' b'737529' b'717816' b'765604' b'767471' b'716339' b'773906'\n",
            " b'765273' b'716331' b'771667' b'716337' b'769953' b'769402' b'769403'\n",
            " b'769819' b'769405' b'716941' b'717578' b'716960' b'717804' b'767572'\n",
            " b'767573' b'773012' b'773013' b'764424' b'769388' b'716328' b'717819'\n",
            " b'769941' b'760987' b'718204' b'718045' b'769418' b'768066' b'772140'\n",
            " b'773927' b'760024' b'774012' b'774011' b'767609' b'769359' b'760650'\n",
            " b'716956' b'769831' b'761604' b'717495' b'716554' b'773953' b'767470'\n",
            " b'716955' b'764949' b'773954' b'767366' b'769444' b'773939' b'774067'\n",
            " b'769443' b'767750' b'767751' b'767610' b'773880' b'764766' b'717497'\n",
            " b'717490' b'717491' b'717492' b'717493' b'765176' b'717498' b'717499'\n",
            " b'765171' b'718064' b'718066' b'765164' b'769431' b'769430' b'717610'\n",
            " b'767053' b'767621' b'772596' b'772597' b'767350' b'767351' b'716571'\n",
            " b'773023' b'767585' b'773024' b'717483' b'718379' b'717481' b'717480'\n",
            " b'717486' b'764120' b'772151' b'718371' b'717489' b'717488' b'717818'\n",
            " b'718076' b'718072' b'767455' b'767454' b'761599' b'717099' b'773916'\n",
            " b'716968' b'769467' b'717576' b'717573' b'717572' b'717571' b'717570'\n",
            " b'764760' b'718089' b'769847' b'717608' b'767523' b'716942' b'718090'\n",
            " b'769867' b'717472' b'717473' b'759591' b'764781' b'765099' b'762329'\n",
            " b'716953' b'716951' b'767509' b'765182' b'769358' b'772513' b'716958'\n",
            " b'718496' b'769346' b'773904' b'718499' b'764853' b'761003' b'717502'\n",
            " b'759602' b'717504' b'763995' b'717508' b'765265' b'773996' b'773995'\n",
            " b'717469' b'717468' b'764106' b'717465' b'764794' b'717466' b'717461'\n",
            " b'717460' b'717463' b'717462' b'769345' b'716943' b'772669' b'717582'\n",
            " b'717583' b'717580' b'716949' b'717587' b'772178' b'717585' b'716939'\n",
            " b'768469' b'764101' b'767554' b'773975' b'773974' b'717510' b'717513'\n",
            " b'717825' b'767495' b'767494' b'717821' b'717823' b'717458' b'717459'\n",
            " b'769926' b'764858' b'717450' b'717452' b'717453' b'759772' b'717456'\n",
            " b'771673' b'772167' b'769372' b'774204' b'769806' b'717590' b'717592'\n",
            " b'717595' b'772168' b'718141' b'769373']\n",
            "\n",
            "Content of 'axis1': [1330560000000000000 1330560300000000000 1330560600000000000 ...\n",
            " 1340840700000000000 1340841000000000000 1340841300000000000]\n",
            "\n",
            "Content of 'block0_items': [b'773869' b'767541' b'767542' b'717447' b'717446' b'717445' b'773062'\n",
            " b'767620' b'737529' b'717816' b'765604' b'767471' b'716339' b'773906'\n",
            " b'765273' b'716331' b'771667' b'716337' b'769953' b'769402' b'769403'\n",
            " b'769819' b'769405' b'716941' b'717578' b'716960' b'717804' b'767572'\n",
            " b'767573' b'773012' b'773013' b'764424' b'769388' b'716328' b'717819'\n",
            " b'769941' b'760987' b'718204' b'718045' b'769418' b'768066' b'772140'\n",
            " b'773927' b'760024' b'774012' b'774011' b'767609' b'769359' b'760650'\n",
            " b'716956' b'769831' b'761604' b'717495' b'716554' b'773953' b'767470'\n",
            " b'716955' b'764949' b'773954' b'767366' b'769444' b'773939' b'774067'\n",
            " b'769443' b'767750' b'767751' b'767610' b'773880' b'764766' b'717497'\n",
            " b'717490' b'717491' b'717492' b'717493' b'765176' b'717498' b'717499'\n",
            " b'765171' b'718064' b'718066' b'765164' b'769431' b'769430' b'717610'\n",
            " b'767053' b'767621' b'772596' b'772597' b'767350' b'767351' b'716571'\n",
            " b'773023' b'767585' b'773024' b'717483' b'718379' b'717481' b'717480'\n",
            " b'717486' b'764120' b'772151' b'718371' b'717489' b'717488' b'717818'\n",
            " b'718076' b'718072' b'767455' b'767454' b'761599' b'717099' b'773916'\n",
            " b'716968' b'769467' b'717576' b'717573' b'717572' b'717571' b'717570'\n",
            " b'764760' b'718089' b'769847' b'717608' b'767523' b'716942' b'718090'\n",
            " b'769867' b'717472' b'717473' b'759591' b'764781' b'765099' b'762329'\n",
            " b'716953' b'716951' b'767509' b'765182' b'769358' b'772513' b'716958'\n",
            " b'718496' b'769346' b'773904' b'718499' b'764853' b'761003' b'717502'\n",
            " b'759602' b'717504' b'763995' b'717508' b'765265' b'773996' b'773995'\n",
            " b'717469' b'717468' b'764106' b'717465' b'764794' b'717466' b'717461'\n",
            " b'717460' b'717463' b'717462' b'769345' b'716943' b'772669' b'717582'\n",
            " b'717583' b'717580' b'716949' b'717587' b'772178' b'717585' b'716939'\n",
            " b'768469' b'764101' b'767554' b'773975' b'773974' b'717510' b'717513'\n",
            " b'717825' b'767495' b'767494' b'717821' b'717823' b'717458' b'717459'\n",
            " b'769926' b'764858' b'717450' b'717452' b'717453' b'759772' b'717456'\n",
            " b'771673' b'772167' b'769372' b'774204' b'769806' b'717590' b'717592'\n",
            " b'717595' b'772168' b'718141' b'769373']\n"
          ]
        }
      ]
    },
    {
      "cell_type": "code",
      "metadata": {
        "colab": {
          "base_uri": "https://localhost:8080/",
          "height": 429
        },
        "id": "20867b23",
        "outputId": "8caecc39-2885-412d-bc10-ba5c87f41821"
      },
      "source": [
        "# Convert timestamps to datetime objects and create a pandas DataFrame\n",
        "timestamps_datetime = pd.to_datetime(timestamps)\n",
        "traffic_df = pd.DataFrame(data, index=timestamps_datetime)\n",
        "\n",
        "# Display the first few rows of the DataFrame\n",
        "display(traffic_df.head())"
      ],
      "execution_count": null,
      "outputs": [
        {
          "output_type": "display_data",
          "data": {
            "text/plain": [
              "                           0          1          2          3          4    \\\n",
              "2012-03-01 00:00:00  64.375000  67.625000  67.125000  61.500000  66.875000   \n",
              "2012-03-01 00:05:00  62.666667  68.555556  65.444444  62.444444  64.444444   \n",
              "2012-03-01 00:10:00  64.000000  63.750000  60.000000  59.000000  66.500000   \n",
              "2012-03-01 00:15:00   0.000000   0.000000   0.000000   0.000000   0.000000   \n",
              "2012-03-01 00:20:00   0.000000   0.000000   0.000000   0.000000   0.000000   \n",
              "\n",
              "                           5       6       7          8          9    ...  \\\n",
              "2012-03-01 00:00:00  68.750000  65.125  67.125  59.625000  62.750000  ...   \n",
              "2012-03-01 00:05:00  68.111111  65.000  65.000  57.444444  63.333333  ...   \n",
              "2012-03-01 00:10:00  66.250000  64.500  64.250  63.875000  65.375000  ...   \n",
              "2012-03-01 00:15:00   0.000000   0.000   0.000   0.000000   0.000000  ...   \n",
              "2012-03-01 00:20:00   0.000000   0.000   0.000   0.000000   0.000000  ...   \n",
              "\n",
              "                           197     198        199        200     201  \\\n",
              "2012-03-01 00:00:00  45.625000  65.500  64.500000  66.428571  66.875   \n",
              "2012-03-01 00:05:00  50.666667  69.875  66.666667  58.555556  62.000   \n",
              "2012-03-01 00:10:00  44.125000  69.000  56.500000  59.250000  68.125   \n",
              "2012-03-01 00:15:00   0.000000   0.000   0.000000   0.000000   0.000   \n",
              "2012-03-01 00:20:00   0.000000   0.000   0.000000   0.000000   0.000   \n",
              "\n",
              "                           202        203        204        205     206  \n",
              "2012-03-01 00:00:00  59.375000  69.000000  59.250000  69.000000  61.875  \n",
              "2012-03-01 00:05:00  61.111111  64.444444  55.888889  68.444444  62.875  \n",
              "2012-03-01 00:10:00  62.500000  65.625000  61.375000  69.857143  62.000  \n",
              "2012-03-01 00:15:00   0.000000   0.000000   0.000000   0.000000   0.000  \n",
              "2012-03-01 00:20:00   0.000000   0.000000   0.000000   0.000000   0.000  \n",
              "\n",
              "[5 rows x 207 columns]"
            ],
            "text/html": [
              "\n",
              "  <div id=\"df-3e3b9f64-0b0b-46d8-84f5-11662de16994\" class=\"colab-df-container\">\n",
              "    <div>\n",
              "<style scoped>\n",
              "    .dataframe tbody tr th:only-of-type {\n",
              "        vertical-align: middle;\n",
              "    }\n",
              "\n",
              "    .dataframe tbody tr th {\n",
              "        vertical-align: top;\n",
              "    }\n",
              "\n",
              "    .dataframe thead th {\n",
              "        text-align: right;\n",
              "    }\n",
              "</style>\n",
              "<table border=\"1\" class=\"dataframe\">\n",
              "  <thead>\n",
              "    <tr style=\"text-align: right;\">\n",
              "      <th></th>\n",
              "      <th>0</th>\n",
              "      <th>1</th>\n",
              "      <th>2</th>\n",
              "      <th>3</th>\n",
              "      <th>4</th>\n",
              "      <th>5</th>\n",
              "      <th>6</th>\n",
              "      <th>7</th>\n",
              "      <th>8</th>\n",
              "      <th>9</th>\n",
              "      <th>...</th>\n",
              "      <th>197</th>\n",
              "      <th>198</th>\n",
              "      <th>199</th>\n",
              "      <th>200</th>\n",
              "      <th>201</th>\n",
              "      <th>202</th>\n",
              "      <th>203</th>\n",
              "      <th>204</th>\n",
              "      <th>205</th>\n",
              "      <th>206</th>\n",
              "    </tr>\n",
              "  </thead>\n",
              "  <tbody>\n",
              "    <tr>\n",
              "      <th>2012-03-01 00:00:00</th>\n",
              "      <td>64.375000</td>\n",
              "      <td>67.625000</td>\n",
              "      <td>67.125000</td>\n",
              "      <td>61.500000</td>\n",
              "      <td>66.875000</td>\n",
              "      <td>68.750000</td>\n",
              "      <td>65.125</td>\n",
              "      <td>67.125</td>\n",
              "      <td>59.625000</td>\n",
              "      <td>62.750000</td>\n",
              "      <td>...</td>\n",
              "      <td>45.625000</td>\n",
              "      <td>65.500</td>\n",
              "      <td>64.500000</td>\n",
              "      <td>66.428571</td>\n",
              "      <td>66.875</td>\n",
              "      <td>59.375000</td>\n",
              "      <td>69.000000</td>\n",
              "      <td>59.250000</td>\n",
              "      <td>69.000000</td>\n",
              "      <td>61.875</td>\n",
              "    </tr>\n",
              "    <tr>\n",
              "      <th>2012-03-01 00:05:00</th>\n",
              "      <td>62.666667</td>\n",
              "      <td>68.555556</td>\n",
              "      <td>65.444444</td>\n",
              "      <td>62.444444</td>\n",
              "      <td>64.444444</td>\n",
              "      <td>68.111111</td>\n",
              "      <td>65.000</td>\n",
              "      <td>65.000</td>\n",
              "      <td>57.444444</td>\n",
              "      <td>63.333333</td>\n",
              "      <td>...</td>\n",
              "      <td>50.666667</td>\n",
              "      <td>69.875</td>\n",
              "      <td>66.666667</td>\n",
              "      <td>58.555556</td>\n",
              "      <td>62.000</td>\n",
              "      <td>61.111111</td>\n",
              "      <td>64.444444</td>\n",
              "      <td>55.888889</td>\n",
              "      <td>68.444444</td>\n",
              "      <td>62.875</td>\n",
              "    </tr>\n",
              "    <tr>\n",
              "      <th>2012-03-01 00:10:00</th>\n",
              "      <td>64.000000</td>\n",
              "      <td>63.750000</td>\n",
              "      <td>60.000000</td>\n",
              "      <td>59.000000</td>\n",
              "      <td>66.500000</td>\n",
              "      <td>66.250000</td>\n",
              "      <td>64.500</td>\n",
              "      <td>64.250</td>\n",
              "      <td>63.875000</td>\n",
              "      <td>65.375000</td>\n",
              "      <td>...</td>\n",
              "      <td>44.125000</td>\n",
              "      <td>69.000</td>\n",
              "      <td>56.500000</td>\n",
              "      <td>59.250000</td>\n",
              "      <td>68.125</td>\n",
              "      <td>62.500000</td>\n",
              "      <td>65.625000</td>\n",
              "      <td>61.375000</td>\n",
              "      <td>69.857143</td>\n",
              "      <td>62.000</td>\n",
              "    </tr>\n",
              "    <tr>\n",
              "      <th>2012-03-01 00:15:00</th>\n",
              "      <td>0.000000</td>\n",
              "      <td>0.000000</td>\n",
              "      <td>0.000000</td>\n",
              "      <td>0.000000</td>\n",
              "      <td>0.000000</td>\n",
              "      <td>0.000000</td>\n",
              "      <td>0.000</td>\n",
              "      <td>0.000</td>\n",
              "      <td>0.000000</td>\n",
              "      <td>0.000000</td>\n",
              "      <td>...</td>\n",
              "      <td>0.000000</td>\n",
              "      <td>0.000</td>\n",
              "      <td>0.000000</td>\n",
              "      <td>0.000000</td>\n",
              "      <td>0.000</td>\n",
              "      <td>0.000000</td>\n",
              "      <td>0.000000</td>\n",
              "      <td>0.000000</td>\n",
              "      <td>0.000000</td>\n",
              "      <td>0.000</td>\n",
              "    </tr>\n",
              "    <tr>\n",
              "      <th>2012-03-01 00:20:00</th>\n",
              "      <td>0.000000</td>\n",
              "      <td>0.000000</td>\n",
              "      <td>0.000000</td>\n",
              "      <td>0.000000</td>\n",
              "      <td>0.000000</td>\n",
              "      <td>0.000000</td>\n",
              "      <td>0.000</td>\n",
              "      <td>0.000</td>\n",
              "      <td>0.000000</td>\n",
              "      <td>0.000000</td>\n",
              "      <td>...</td>\n",
              "      <td>0.000000</td>\n",
              "      <td>0.000</td>\n",
              "      <td>0.000000</td>\n",
              "      <td>0.000000</td>\n",
              "      <td>0.000</td>\n",
              "      <td>0.000000</td>\n",
              "      <td>0.000000</td>\n",
              "      <td>0.000000</td>\n",
              "      <td>0.000000</td>\n",
              "      <td>0.000</td>\n",
              "    </tr>\n",
              "  </tbody>\n",
              "</table>\n",
              "<p>5 rows × 207 columns</p>\n",
              "</div>\n",
              "    <div class=\"colab-df-buttons\">\n",
              "\n",
              "  <div class=\"colab-df-container\">\n",
              "    <button class=\"colab-df-convert\" onclick=\"convertToInteractive('df-3e3b9f64-0b0b-46d8-84f5-11662de16994')\"\n",
              "            title=\"Convert this dataframe to an interactive table.\"\n",
              "            style=\"display:none;\">\n",
              "\n",
              "  <svg xmlns=\"http://www.w3.org/2000/svg\" height=\"24px\" viewBox=\"0 -960 960 960\">\n",
              "    <path d=\"M120-120v-720h720v720H120Zm60-500h600v-160H180v160Zm220 220h160v-160H400v160Zm0 220h160v-160H400v160ZM180-400h160v-160H180v160Zm440 0h160v-160H620v160ZM180-180h160v-160H180v160Zm440 0h160v-160H620v160Z\"/>\n",
              "  </svg>\n",
              "    </button>\n",
              "\n",
              "  <style>\n",
              "    .colab-df-container {\n",
              "      display:flex;\n",
              "      gap: 12px;\n",
              "    }\n",
              "\n",
              "    .colab-df-convert {\n",
              "      background-color: #E8F0FE;\n",
              "      border: none;\n",
              "      border-radius: 50%;\n",
              "      cursor: pointer;\n",
              "      display: none;\n",
              "      fill: #1967D2;\n",
              "      height: 32px;\n",
              "      padding: 0 0 0 0;\n",
              "      width: 32px;\n",
              "    }\n",
              "\n",
              "    .colab-df-convert:hover {\n",
              "      background-color: #E2EBFA;\n",
              "      box-shadow: 0px 1px 2px rgba(60, 64, 67, 0.3), 0px 1px 3px 1px rgba(60, 64, 67, 0.15);\n",
              "      fill: #174EA6;\n",
              "    }\n",
              "\n",
              "    .colab-df-buttons div {\n",
              "      margin-bottom: 4px;\n",
              "    }\n",
              "\n",
              "    [theme=dark] .colab-df-convert {\n",
              "      background-color: #3B4455;\n",
              "      fill: #D2E3FC;\n",
              "    }\n",
              "\n",
              "    [theme=dark] .colab-df-convert:hover {\n",
              "      background-color: #434B5C;\n",
              "      box-shadow: 0px 1px 3px 1px rgba(0, 0, 0, 0.15);\n",
              "      filter: drop-shadow(0px 1px 2px rgba(0, 0, 0, 0.3));\n",
              "      fill: #FFFFFF;\n",
              "    }\n",
              "  </style>\n",
              "\n",
              "    <script>\n",
              "      const buttonEl =\n",
              "        document.querySelector('#df-3e3b9f64-0b0b-46d8-84f5-11662de16994 button.colab-df-convert');\n",
              "      buttonEl.style.display =\n",
              "        google.colab.kernel.accessAllowed ? 'block' : 'none';\n",
              "\n",
              "      async function convertToInteractive(key) {\n",
              "        const element = document.querySelector('#df-3e3b9f64-0b0b-46d8-84f5-11662de16994');\n",
              "        const dataTable =\n",
              "          await google.colab.kernel.invokeFunction('convertToInteractive',\n",
              "                                                    [key], {});\n",
              "        if (!dataTable) return;\n",
              "\n",
              "        const docLinkHtml = 'Like what you see? Visit the ' +\n",
              "          '<a target=\"_blank\" href=https://colab.research.google.com/notebooks/data_table.ipynb>data table notebook</a>'\n",
              "          + ' to learn more about interactive tables.';\n",
              "        element.innerHTML = '';\n",
              "        dataTable['output_type'] = 'display_data';\n",
              "        await google.colab.output.renderOutput(dataTable, element);\n",
              "        const docLink = document.createElement('div');\n",
              "        docLink.innerHTML = docLinkHtml;\n",
              "        element.appendChild(docLink);\n",
              "      }\n",
              "    </script>\n",
              "  </div>\n",
              "\n",
              "\n",
              "    <div id=\"df-0f5ced23-6198-4553-9a51-ad8bb0610e3b\">\n",
              "      <button class=\"colab-df-quickchart\" onclick=\"quickchart('df-0f5ced23-6198-4553-9a51-ad8bb0610e3b')\"\n",
              "                title=\"Suggest charts\"\n",
              "                style=\"display:none;\">\n",
              "\n",
              "<svg xmlns=\"http://www.w3.org/2000/svg\" height=\"24px\"viewBox=\"0 0 24 24\"\n",
              "     width=\"24px\">\n",
              "    <g>\n",
              "        <path d=\"M19 3H5c-1.1 0-2 .9-2 2v14c0 1.1.9 2 2 2h14c1.1 0 2-.9 2-2V5c0-1.1-.9-2-2-2zM9 17H7v-7h2v7zm4 0h-2V7h2v10zm4 0h-2v-4h2v4z\"/>\n",
              "    </g>\n",
              "</svg>\n",
              "      </button>\n",
              "\n",
              "<style>\n",
              "  .colab-df-quickchart {\n",
              "      --bg-color: #E8F0FE;\n",
              "      --fill-color: #1967D2;\n",
              "      --hover-bg-color: #E2EBFA;\n",
              "      --hover-fill-color: #174EA6;\n",
              "      --disabled-fill-color: #AAA;\n",
              "      --disabled-bg-color: #DDD;\n",
              "  }\n",
              "\n",
              "  [theme=dark] .colab-df-quickchart {\n",
              "      --bg-color: #3B4455;\n",
              "      --fill-color: #D2E3FC;\n",
              "      --hover-bg-color: #434B5C;\n",
              "      --hover-fill-color: #FFFFFF;\n",
              "      --disabled-bg-color: #3B4455;\n",
              "      --disabled-fill-color: #666;\n",
              "  }\n",
              "\n",
              "  .colab-df-quickchart {\n",
              "    background-color: var(--bg-color);\n",
              "    border: none;\n",
              "    border-radius: 50%;\n",
              "    cursor: pointer;\n",
              "    display: none;\n",
              "    fill: var(--fill-color);\n",
              "    height: 32px;\n",
              "    padding: 0;\n",
              "    width: 32px;\n",
              "  }\n",
              "\n",
              "  .colab-df-quickchart:hover {\n",
              "    background-color: var(--hover-bg-color);\n",
              "    box-shadow: 0 1px 2px rgba(60, 64, 67, 0.3), 0 1px 3px 1px rgba(60, 64, 67, 0.15);\n",
              "    fill: var(--button-hover-fill-color);\n",
              "  }\n",
              "\n",
              "  .colab-df-quickchart-complete:disabled,\n",
              "  .colab-df-quickchart-complete:disabled:hover {\n",
              "    background-color: var(--disabled-bg-color);\n",
              "    fill: var(--disabled-fill-color);\n",
              "    box-shadow: none;\n",
              "  }\n",
              "\n",
              "  .colab-df-spinner {\n",
              "    border: 2px solid var(--fill-color);\n",
              "    border-color: transparent;\n",
              "    border-bottom-color: var(--fill-color);\n",
              "    animation:\n",
              "      spin 1s steps(1) infinite;\n",
              "  }\n",
              "\n",
              "  @keyframes spin {\n",
              "    0% {\n",
              "      border-color: transparent;\n",
              "      border-bottom-color: var(--fill-color);\n",
              "      border-left-color: var(--fill-color);\n",
              "    }\n",
              "    20% {\n",
              "      border-color: transparent;\n",
              "      border-left-color: var(--fill-color);\n",
              "      border-top-color: var(--fill-color);\n",
              "    }\n",
              "    30% {\n",
              "      border-color: transparent;\n",
              "      border-left-color: var(--fill-color);\n",
              "      border-top-color: var(--fill-color);\n",
              "      border-right-color: var(--fill-color);\n",
              "    }\n",
              "    40% {\n",
              "      border-color: transparent;\n",
              "      border-right-color: var(--fill-color);\n",
              "      border-top-color: var(--fill-color);\n",
              "    }\n",
              "    60% {\n",
              "      border-color: transparent;\n",
              "      border-right-color: var(--fill-color);\n",
              "    }\n",
              "    80% {\n",
              "      border-color: transparent;\n",
              "      border-right-color: var(--fill-color);\n",
              "      border-bottom-color: var(--fill-color);\n",
              "    }\n",
              "    90% {\n",
              "      border-color: transparent;\n",
              "      border-bottom-color: var(--fill-color);\n",
              "    }\n",
              "  }\n",
              "</style>\n",
              "\n",
              "      <script>\n",
              "        async function quickchart(key) {\n",
              "          const quickchartButtonEl =\n",
              "            document.querySelector('#' + key + ' button');\n",
              "          quickchartButtonEl.disabled = true;  // To prevent multiple clicks.\n",
              "          quickchartButtonEl.classList.add('colab-df-spinner');\n",
              "          try {\n",
              "            const charts = await google.colab.kernel.invokeFunction(\n",
              "                'suggestCharts', [key], {});\n",
              "          } catch (error) {\n",
              "            console.error('Error during call to suggestCharts:', error);\n",
              "          }\n",
              "          quickchartButtonEl.classList.remove('colab-df-spinner');\n",
              "          quickchartButtonEl.classList.add('colab-df-quickchart-complete');\n",
              "        }\n",
              "        (() => {\n",
              "          let quickchartButtonEl =\n",
              "            document.querySelector('#df-0f5ced23-6198-4553-9a51-ad8bb0610e3b button');\n",
              "          quickchartButtonEl.style.display =\n",
              "            google.colab.kernel.accessAllowed ? 'block' : 'none';\n",
              "        })();\n",
              "      </script>\n",
              "    </div>\n",
              "\n",
              "    </div>\n",
              "  </div>\n"
            ],
            "application/vnd.google.colaboratory.intrinsic+json": {
              "type": "dataframe"
            }
          },
          "metadata": {}
        }
      ]
    },
    {
      "cell_type": "markdown",
      "source": [
        "converting to pandas df"
      ],
      "metadata": {
        "id": "gQxMogEDLaxP"
      }
    },
    {
      "cell_type": "code",
      "source": [
        "import numpy as np"
      ],
      "metadata": {
        "id": "UQkKQIu3LVVc"
      },
      "execution_count": null,
      "outputs": []
    },
    {
      "cell_type": "code",
      "source": [
        "timestamps = pd.to_datetime(timestamps, unit=\"ns\")"
      ],
      "metadata": {
        "id": "2hn8xNBELZuo"
      },
      "execution_count": null,
      "outputs": []
    },
    {
      "cell_type": "code",
      "metadata": {
        "colab": {
          "base_uri": "https://localhost:8080/"
        },
        "id": "c7adaa6b",
        "outputId": "07289766-7df9-4a3f-af21-02f40a035288"
      },
      "source": [
        "# Inspect a few raw timestamp values\n",
        "print(\"First 5 timestamp values:\", timestamps[:5])\n",
        "\n",
        "# Try converting a sample timestamp with different units\n",
        "sample_timestamp = timestamps[0]\n",
        "from pandas.errors import OutOfBoundsDatetime\n",
        "try:\n",
        "    print(\"Converting with unit='ns':\", pd.to_datetime(sample_timestamp, unit='ns'))\n",
        "except OutOfBoundsDatetime as e:\n",
        "    print(\"Converting with unit='ns' resulted in error:\", e)\n",
        "\n",
        "try:\n",
        "    print(\"Converting with unit='ms':\", pd.to_datetime(sample_timestamp, unit='ms'))\n",
        "except OutOfBoundsDatetime as e:\n",
        "    print(\"Converting with unit='ms' resulted in error:\", e)\n",
        "\n",
        "try:\n",
        "    print(\"Converting with unit='us':\", pd.to_datetime(sample_timestamp, unit='us'))\n",
        "except OutOfBoundsDatetime as e:\n",
        "    print(\"Converting with unit='us' resulted in error:\", e)\n",
        "\n",
        "try:\n",
        "    print(\"Converting with unit='s':\", pd.to_datetime(sample_timestamp, unit='s'))\n",
        "except OutOfBoundsDatetime as e:\n",
        "    print(\"Converting with unit='s' resulted in error:\", e)"
      ],
      "execution_count": null,
      "outputs": [
        {
          "output_type": "stream",
          "name": "stdout",
          "text": [
            "First 5 timestamp values: [1330560000000000000 1330560300000000000 1330560600000000000\n",
            " 1330560900000000000 1330561200000000000]\n",
            "Converting with unit='ns': 2012-03-01 00:00:00\n",
            "Converting with unit='ms' resulted in error: Out of bounds nanosecond timestamp: 42165737-11-28 00:00:00\n",
            "Converting with unit='us' resulted in error: Out of bounds nanosecond timestamp: 44133-10-08 00:00:00\n",
            "Converting with unit='s' resulted in error: Out of bounds nanosecond timestamp: 42163769877-08-16 00:00:00\n"
          ]
        }
      ]
    },
    {
      "cell_type": "code",
      "source": [
        "df = pd.DataFrame(data, index=timestamps)\n",
        "df.index.name = \"timestamp\"\n",
        "\n",
        "print(df.head())"
      ],
      "metadata": {
        "colab": {
          "base_uri": "https://localhost:8080/"
        },
        "id": "QEYvqnFPL_G2",
        "outputId": "f61b54db-2f95-4207-db61-9f4460d759d0"
      },
      "execution_count": null,
      "outputs": [
        {
          "output_type": "stream",
          "name": "stdout",
          "text": [
            "                           0          1          2          3          4    \\\n",
            "timestamp                                                                    \n",
            "2012-03-01 00:00:00  64.375000  67.625000  67.125000  61.500000  66.875000   \n",
            "2012-03-01 00:05:00  62.666667  68.555556  65.444444  62.444444  64.444444   \n",
            "2012-03-01 00:10:00  64.000000  63.750000  60.000000  59.000000  66.500000   \n",
            "2012-03-01 00:15:00   0.000000   0.000000   0.000000   0.000000   0.000000   \n",
            "2012-03-01 00:20:00   0.000000   0.000000   0.000000   0.000000   0.000000   \n",
            "\n",
            "                           5       6       7          8          9    ...  \\\n",
            "timestamp                                                             ...   \n",
            "2012-03-01 00:00:00  68.750000  65.125  67.125  59.625000  62.750000  ...   \n",
            "2012-03-01 00:05:00  68.111111  65.000  65.000  57.444444  63.333333  ...   \n",
            "2012-03-01 00:10:00  66.250000  64.500  64.250  63.875000  65.375000  ...   \n",
            "2012-03-01 00:15:00   0.000000   0.000   0.000   0.000000   0.000000  ...   \n",
            "2012-03-01 00:20:00   0.000000   0.000   0.000   0.000000   0.000000  ...   \n",
            "\n",
            "                           197     198        199        200     201  \\\n",
            "timestamp                                                              \n",
            "2012-03-01 00:00:00  45.625000  65.500  64.500000  66.428571  66.875   \n",
            "2012-03-01 00:05:00  50.666667  69.875  66.666667  58.555556  62.000   \n",
            "2012-03-01 00:10:00  44.125000  69.000  56.500000  59.250000  68.125   \n",
            "2012-03-01 00:15:00   0.000000   0.000   0.000000   0.000000   0.000   \n",
            "2012-03-01 00:20:00   0.000000   0.000   0.000000   0.000000   0.000   \n",
            "\n",
            "                           202        203        204        205     206  \n",
            "timestamp                                                                \n",
            "2012-03-01 00:00:00  59.375000  69.000000  59.250000  69.000000  61.875  \n",
            "2012-03-01 00:05:00  61.111111  64.444444  55.888889  68.444444  62.875  \n",
            "2012-03-01 00:10:00  62.500000  65.625000  61.375000  69.857143  62.000  \n",
            "2012-03-01 00:15:00   0.000000   0.000000   0.000000   0.000000   0.000  \n",
            "2012-03-01 00:20:00   0.000000   0.000000   0.000000   0.000000   0.000  \n",
            "\n",
            "[5 rows x 207 columns]\n"
          ]
        }
      ]
    },
    {
      "cell_type": "markdown",
      "source": [
        "preprocessing"
      ],
      "metadata": {
        "id": "cGcHukvAMGnt"
      }
    },
    {
      "cell_type": "code",
      "source": [
        "from sklearn.preprocessing import StandardScaler"
      ],
      "metadata": {
        "id": "cvg0s74sMBtb"
      },
      "execution_count": null,
      "outputs": []
    },
    {
      "cell_type": "code",
      "source": [
        "sensor_id = 0\n",
        "traffic_series = df.iloc[:, sensor_id].values"
      ],
      "metadata": {
        "id": "nAJCATYiMS8d"
      },
      "execution_count": null,
      "outputs": []
    },
    {
      "cell_type": "code",
      "source": [
        "scaler = StandardScaler()\n",
        "traffic_scaled = scaler.fit_transform(traffic_series.reshape(-1,1))\n",
        "\n",
        "print(\"Scaled series shape:\", traffic_scaled.shape)"
      ],
      "metadata": {
        "colab": {
          "base_uri": "https://localhost:8080/"
        },
        "id": "eFqPMXXhMZ3Y",
        "outputId": "5f43889e-6ca9-41e1-9526-e980d0ebad4e"
      },
      "execution_count": null,
      "outputs": [
        {
          "output_type": "stream",
          "name": "stdout",
          "text": [
            "Scaled series shape: (34272, 1)\n"
          ]
        }
      ]
    },
    {
      "cell_type": "markdown",
      "source": [
        "creating time series dataset"
      ],
      "metadata": {
        "id": "Md0gP-3nMh-0"
      }
    },
    {
      "cell_type": "code",
      "source": [
        "def create_dataset(series, seq_length=12):\n",
        "    X, y = [], []\n",
        "    for i in range(len(series) - seq_length):\n",
        "        X.append(series[i:i+seq_length])\n",
        "        y.append(series[i+seq_length])\n",
        "    return np.array(X), np.array(y)\n",
        "sequence_length = 12\n",
        "X, y = create_dataset(traffic_scaled, seq_length=sequence_length)\n",
        "\n",
        "print(\"X shape:\", X.shape)  # (samples, seq_length, 1)\n",
        "print(\"y shape:\", y.shape)"
      ],
      "metadata": {
        "colab": {
          "base_uri": "https://localhost:8080/"
        },
        "id": "AusPYuIjMe4d",
        "outputId": "0811cbfc-4550-428e-c615-f2d4e7fea8bf"
      },
      "execution_count": null,
      "outputs": [
        {
          "output_type": "stream",
          "name": "stdout",
          "text": [
            "X shape: (34260, 12, 1)\n",
            "y shape: (34260, 1)\n"
          ]
        }
      ]
    },
    {
      "cell_type": "markdown",
      "source": [
        "train test split"
      ],
      "metadata": {
        "id": "xBv31rPoMt4x"
      }
    },
    {
      "cell_type": "code",
      "source": [
        "split = int(len(X) * 0.8)\n",
        "X_train, X_test = X[:split], X[split:]\n",
        "y_train, y_test = y[:split], y[split:]\n",
        "\n",
        "print(\"Training samples:\", X_train.shape[0])\n",
        "print(\"Testing samples:\", X_test.shape[0])\n"
      ],
      "metadata": {
        "colab": {
          "base_uri": "https://localhost:8080/"
        },
        "id": "GKUeQ7rIMrZm",
        "outputId": "166f538d-25b4-470a-cffb-b5983fc880c5"
      },
      "execution_count": null,
      "outputs": [
        {
          "output_type": "stream",
          "name": "stdout",
          "text": [
            "Training samples: 27408\n",
            "Testing samples: 6852\n"
          ]
        }
      ]
    },
    {
      "cell_type": "markdown",
      "source": [
        "lstm model"
      ],
      "metadata": {
        "id": "hpp0spdyM4dq"
      }
    },
    {
      "cell_type": "code",
      "source": [
        "import tensorflow as tf\n",
        "from tensorflow.keras.models import Sequential\n",
        "from tensorflow.keras.layers import LSTM, Dense\n",
        "\n",
        "# LSTM Model\n",
        "model = Sequential([\n",
        "    LSTM(64, activation='relu', input_shape=(sequence_length, 1)),\n",
        "    Dense(1)\n",
        "])\n",
        "\n",
        "model.compile(optimizer='adam', loss='mse')\n",
        "model.summary()\n",
        "\n",
        "# Train\n",
        "history = model.fit(X_train, y_train, epochs=10, batch_size=64, validation_split=0.1)\n"
      ],
      "metadata": {
        "colab": {
          "base_uri": "https://localhost:8080/",
          "height": 595
        },
        "id": "NYlGCu0dM1Ft",
        "outputId": "33baa5dd-0d8c-42e6-f406-7ee6c2839ddd"
      },
      "execution_count": null,
      "outputs": [
        {
          "output_type": "stream",
          "name": "stderr",
          "text": [
            "/usr/local/lib/python3.11/dist-packages/keras/src/layers/rnn/rnn.py:199: UserWarning: Do not pass an `input_shape`/`input_dim` argument to a layer. When using Sequential models, prefer using an `Input(shape)` object as the first layer in the model instead.\n",
            "  super().__init__(**kwargs)\n"
          ]
        },
        {
          "output_type": "display_data",
          "data": {
            "text/plain": [
              "\u001b[1mModel: \"sequential\"\u001b[0m\n"
            ],
            "text/html": [
              "<pre style=\"white-space:pre;overflow-x:auto;line-height:normal;font-family:Menlo,'DejaVu Sans Mono',consolas,'Courier New',monospace\"><span style=\"font-weight: bold\">Model: \"sequential\"</span>\n",
              "</pre>\n"
            ]
          },
          "metadata": {}
        },
        {
          "output_type": "display_data",
          "data": {
            "text/plain": [
              "┏━━━━━━━━━━━━━━━━━━━━━━━━━━━━━━━━━┳━━━━━━━━━━━━━━━━━━━━━━━━┳━━━━━━━━━━━━━━━┓\n",
              "┃\u001b[1m \u001b[0m\u001b[1mLayer (type)                   \u001b[0m\u001b[1m \u001b[0m┃\u001b[1m \u001b[0m\u001b[1mOutput Shape          \u001b[0m\u001b[1m \u001b[0m┃\u001b[1m \u001b[0m\u001b[1m      Param #\u001b[0m\u001b[1m \u001b[0m┃\n",
              "┡━━━━━━━━━━━━━━━━━━━━━━━━━━━━━━━━━╇━━━━━━━━━━━━━━━━━━━━━━━━╇━━━━━━━━━━━━━━━┩\n",
              "│ lstm (\u001b[38;5;33mLSTM\u001b[0m)                     │ (\u001b[38;5;45mNone\u001b[0m, \u001b[38;5;34m64\u001b[0m)             │        \u001b[38;5;34m16,896\u001b[0m │\n",
              "├─────────────────────────────────┼────────────────────────┼───────────────┤\n",
              "│ dense (\u001b[38;5;33mDense\u001b[0m)                   │ (\u001b[38;5;45mNone\u001b[0m, \u001b[38;5;34m1\u001b[0m)              │            \u001b[38;5;34m65\u001b[0m │\n",
              "└─────────────────────────────────┴────────────────────────┴───────────────┘\n"
            ],
            "text/html": [
              "<pre style=\"white-space:pre;overflow-x:auto;line-height:normal;font-family:Menlo,'DejaVu Sans Mono',consolas,'Courier New',monospace\">┏━━━━━━━━━━━━━━━━━━━━━━━━━━━━━━━━━┳━━━━━━━━━━━━━━━━━━━━━━━━┳━━━━━━━━━━━━━━━┓\n",
              "┃<span style=\"font-weight: bold\"> Layer (type)                    </span>┃<span style=\"font-weight: bold\"> Output Shape           </span>┃<span style=\"font-weight: bold\">       Param # </span>┃\n",
              "┡━━━━━━━━━━━━━━━━━━━━━━━━━━━━━━━━━╇━━━━━━━━━━━━━━━━━━━━━━━━╇━━━━━━━━━━━━━━━┩\n",
              "│ lstm (<span style=\"color: #0087ff; text-decoration-color: #0087ff\">LSTM</span>)                     │ (<span style=\"color: #00d7ff; text-decoration-color: #00d7ff\">None</span>, <span style=\"color: #00af00; text-decoration-color: #00af00\">64</span>)             │        <span style=\"color: #00af00; text-decoration-color: #00af00\">16,896</span> │\n",
              "├─────────────────────────────────┼────────────────────────┼───────────────┤\n",
              "│ dense (<span style=\"color: #0087ff; text-decoration-color: #0087ff\">Dense</span>)                   │ (<span style=\"color: #00d7ff; text-decoration-color: #00d7ff\">None</span>, <span style=\"color: #00af00; text-decoration-color: #00af00\">1</span>)              │            <span style=\"color: #00af00; text-decoration-color: #00af00\">65</span> │\n",
              "└─────────────────────────────────┴────────────────────────┴───────────────┘\n",
              "</pre>\n"
            ]
          },
          "metadata": {}
        },
        {
          "output_type": "display_data",
          "data": {
            "text/plain": [
              "\u001b[1m Total params: \u001b[0m\u001b[38;5;34m16,961\u001b[0m (66.25 KB)\n"
            ],
            "text/html": [
              "<pre style=\"white-space:pre;overflow-x:auto;line-height:normal;font-family:Menlo,'DejaVu Sans Mono',consolas,'Courier New',monospace\"><span style=\"font-weight: bold\"> Total params: </span><span style=\"color: #00af00; text-decoration-color: #00af00\">16,961</span> (66.25 KB)\n",
              "</pre>\n"
            ]
          },
          "metadata": {}
        },
        {
          "output_type": "display_data",
          "data": {
            "text/plain": [
              "\u001b[1m Trainable params: \u001b[0m\u001b[38;5;34m16,961\u001b[0m (66.25 KB)\n"
            ],
            "text/html": [
              "<pre style=\"white-space:pre;overflow-x:auto;line-height:normal;font-family:Menlo,'DejaVu Sans Mono',consolas,'Courier New',monospace\"><span style=\"font-weight: bold\"> Trainable params: </span><span style=\"color: #00af00; text-decoration-color: #00af00\">16,961</span> (66.25 KB)\n",
              "</pre>\n"
            ]
          },
          "metadata": {}
        },
        {
          "output_type": "display_data",
          "data": {
            "text/plain": [
              "\u001b[1m Non-trainable params: \u001b[0m\u001b[38;5;34m0\u001b[0m (0.00 B)\n"
            ],
            "text/html": [
              "<pre style=\"white-space:pre;overflow-x:auto;line-height:normal;font-family:Menlo,'DejaVu Sans Mono',consolas,'Courier New',monospace\"><span style=\"font-weight: bold\"> Non-trainable params: </span><span style=\"color: #00af00; text-decoration-color: #00af00\">0</span> (0.00 B)\n",
              "</pre>\n"
            ]
          },
          "metadata": {}
        },
        {
          "output_type": "stream",
          "name": "stdout",
          "text": [
            "Epoch 1/10\n",
            "\u001b[1m386/386\u001b[0m \u001b[32m━━━━━━━━━━━━━━━━━━━━\u001b[0m\u001b[37m\u001b[0m \u001b[1m4s\u001b[0m 7ms/step - loss: 0.2292 - val_loss: 0.0617\n",
            "Epoch 2/10\n",
            "\u001b[1m386/386\u001b[0m \u001b[32m━━━━━━━━━━━━━━━━━━━━\u001b[0m\u001b[37m\u001b[0m \u001b[1m5s\u001b[0m 7ms/step - loss: 0.0926 - val_loss: 0.0758\n",
            "Epoch 3/10\n",
            "\u001b[1m386/386\u001b[0m \u001b[32m━━━━━━━━━━━━━━━━━━━━\u001b[0m\u001b[37m\u001b[0m \u001b[1m5s\u001b[0m 6ms/step - loss: 0.0984 - val_loss: 0.0769\n",
            "Epoch 4/10\n",
            "\u001b[1m386/386\u001b[0m \u001b[32m━━━━━━━━━━━━━━━━━━━━\u001b[0m\u001b[37m\u001b[0m \u001b[1m2s\u001b[0m 6ms/step - loss: 0.0941 - val_loss: 0.0644\n",
            "Epoch 5/10\n",
            "\u001b[1m386/386\u001b[0m \u001b[32m━━━━━━━━━━━━━━━━━━━━\u001b[0m\u001b[37m\u001b[0m \u001b[1m3s\u001b[0m 6ms/step - loss: 0.0970 - val_loss: 0.0634\n",
            "Epoch 6/10\n",
            "\u001b[1m386/386\u001b[0m \u001b[32m━━━━━━━━━━━━━━━━━━━━\u001b[0m\u001b[37m\u001b[0m \u001b[1m3s\u001b[0m 8ms/step - loss: 0.0979 - val_loss: 0.0574\n",
            "Epoch 7/10\n",
            "\u001b[1m386/386\u001b[0m \u001b[32m━━━━━━━━━━━━━━━━━━━━\u001b[0m\u001b[37m\u001b[0m \u001b[1m2s\u001b[0m 6ms/step - loss: 0.0956 - val_loss: 0.0583\n",
            "Epoch 8/10\n",
            "\u001b[1m386/386\u001b[0m \u001b[32m━━━━━━━━━━━━━━━━━━━━\u001b[0m\u001b[37m\u001b[0m \u001b[1m2s\u001b[0m 6ms/step - loss: 0.0966 - val_loss: 0.0568\n",
            "Epoch 9/10\n",
            "\u001b[1m386/386\u001b[0m \u001b[32m━━━━━━━━━━━━━━━━━━━━\u001b[0m\u001b[37m\u001b[0m \u001b[1m3s\u001b[0m 6ms/step - loss: 0.0928 - val_loss: 0.0579\n",
            "Epoch 10/10\n",
            "\u001b[1m386/386\u001b[0m \u001b[32m━━━━━━━━━━━━━━━━━━━━\u001b[0m\u001b[37m\u001b[0m \u001b[1m2s\u001b[0m 6ms/step - loss: 0.0909 - val_loss: 0.0588\n"
          ]
        }
      ]
    },
    {
      "cell_type": "markdown",
      "source": [
        "eval"
      ],
      "metadata": {
        "id": "_JmO-bHtNTVE"
      }
    },
    {
      "cell_type": "code",
      "source": [
        "import matplotlib.pyplot as plt\n",
        "\n",
        "y_pred = model.predict(X_test)\n",
        "\n",
        "plt.figure(figsize=(12,6))\n",
        "plt.plot(y_test[:200], label=\"Actual\", linewidth=2)\n",
        "plt.plot(y_pred[:200], label=\"Predicted\", linewidth=2)\n",
        "plt.legend()\n",
        "plt.title(\"Traffic Flow Prediction (Sensor {})\".format(sensor_id))\n",
        "plt.show()\n"
      ],
      "metadata": {
        "colab": {
          "base_uri": "https://localhost:8080/",
          "height": 490
        },
        "id": "4yRH7M7yNUEX",
        "outputId": "ec4d8e25-6e0a-4a99-bc2e-3e91af7e96a5"
      },
      "execution_count": null,
      "outputs": [
        {
          "output_type": "stream",
          "name": "stdout",
          "text": [
            "\u001b[1m215/215\u001b[0m \u001b[32m━━━━━━━━━━━━━━━━━━━━\u001b[0m\u001b[37m\u001b[0m \u001b[1m1s\u001b[0m 3ms/step\n"
          ]
        },
        {
          "output_type": "display_data",
          "data": {
            "text/plain": [
              "<Figure size 1200x600 with 1 Axes>"
            ],
            "image/png": "[encoded data removed]"
          },
          "metadata": {}
        }
      ]
    },
    {
      "cell_type": "markdown",
      "source": [
        "xgboost and lstm\n"
      ],
      "metadata": {
        "id": "q6skA7jKOEs0"
      }
    },
    {
      "cell_type": "code",
      "source": [
        "import pandas as pd\n",
        "import numpy as np\n",
        "import h5py\n",
        "from sklearn.preprocessing import StandardScaler\n",
        "from sklearn.model_selection import train_test_split\n",
        "from sklearn.metrics import mean_squared_error\n",
        "import matplotlib.pyplot as plt\n",
        "import tensorflow as tf\n",
        "from tensorflow.keras.models import Sequential\n",
        "from tensorflow.keras.layers import LSTM, Dense\n",
        "from xgboost import XGBRegressor\n",
        "\n",
        "# ---------------- Step 1: Load METR-LA dataset ----------------\n",
        "file_path = \"/content/METR-LA.h5\"\n",
        "with h5py.File(file_path, 'r') as f:\n",
        "    data_group = f['df']\n",
        "    data = data_group['block0_values'][:]\n",
        "    timestamps = data_group['axis1'][:]\n",
        "\n",
        "\n",
        "timestamps = pd.to_datetime(timestamps, unit=\"ns\")\n",
        "df = pd.DataFrame(data, index=timestamps)\n",
        "df.index.name = \"timestamp\"\n",
        "print(\"Data shape:\", df.shape)\n",
        "\n",
        "# ---------------- Step 2: Select one sensor ----------------\n",
        "sensor_id = 0\n",
        "traffic_series = df.iloc[:, sensor_id].values\n",
        "\n",
        "# Scale\n",
        "scaler = StandardScaler()\n",
        "traffic_scaled = scaler.fit_transform(traffic_series.reshape(-1,1))\n",
        "\n",
        "# ---------------- Step 3: Create sequences ----------------\n",
        "def create_dataset(series, seq_length=12):\n",
        "    X, y = [], []\n",
        "    for i in range(len(series) - seq_length):\n",
        "        X.append(series[i:i+seq_length])\n",
        "        y.append(series[i+seq_length])\n",
        "    return np.array(X), np.array(y)\n",
        "\n",
        "sequence_length = 12\n",
        "X, y = create_dataset(traffic_scaled, seq_length=sequence_length)\n",
        "\n",
        "# Train-test split\n",
        "split = int(len(X) * 0.8)\n",
        "X_train, X_test = X[:split], X[split:]\n",
        "y_train, y_test = y[:split], y[split:]\n",
        "\n",
        "print(\"X_train:\", X_train.shape, \"X_test:\", X_test.shape)\n",
        "\n",
        "# ---------------- Step 4A: XGBoost Model ----------------\n",
        "\n",
        "# Flatten for XGBoost (tabular format)\n",
        "X_train_flat = X_train.reshape(X_train.shape[0], -1)\n",
        "X_test_flat = X_test.reshape(X_test.shape[0], -1)\n",
        "\n",
        "xgb_model = XGBRegressor(n_estimators=100, learning_rate=0.1, max_depth=5)\n",
        "xgb_model.fit(X_train_flat, y_train)\n",
        "\n",
        "y_pred_xgb = xgb_model.predict(X_test_flat)\n",
        "mse_xgb = mean_squared_error(y_test, y_pred_xgb)\n",
        "print(\"XGBoost MSE:\", mse_xgb)\n",
        "\n",
        "# ---------------- Step 4B: LSTM Model ----------------\n",
        "\n",
        "lstm_model = Sequential([\n",
        "    LSTM(64, activation='relu', input_shape=(sequence_length, 1)),\n",
        "    Dense(1)\n",
        "])\n",
        "\n",
        "lstm_model.compile(optimizer='adam', loss='mse')\n",
        "history = lstm_model.fit(X_train, y_train, epochs=10, batch_size=64, validation_split=0.1, verbose=1)\n",
        "\n",
        "y_pred_lstm = lstm_model.predict(X_test)\n",
        "mse_lstm = mean_squared_error(y_test, y_pred_lstm)\n",
        "print(\"LSTM MSE:\", mse_lstm)\n",
        "\n",
        "# ---------------- Step 5: Visualization ----------------\n",
        "plt.figure(figsize=(14,6))\n",
        "plt.plot(y_test[:200], label=\"Actual\", linewidth=2)\n",
        "plt.plot(y_pred_xgb[:200], label=\"XGBoost Prediction\", alpha=0.7)\n",
        "plt.plot(y_pred_lstm[:200], label=\"LSTM Prediction\", alpha=0.7)\n",
        "plt.legend()\n",
        "plt.title(\"Traffic Flow Prediction (Sensor {})\".format(sensor_id))\n",
        "plt.show()"
      ],
      "metadata": {
        "colab": {
          "base_uri": "https://localhost:8080/",
          "height": 899
        },
        "id": "6STXrNXEOEGt",
        "outputId": "56697d6c-efac-4b55-906e-a165a86d4e12"
      },
      "execution_count": null,
      "outputs": [
        {
          "output_type": "stream",
          "name": "stdout",
          "text": [
            "Data shape: (34272, 207)\n",
            "X_train: (27408, 12, 1) X_test: (6852, 12, 1)\n",
            "XGBoost MSE: 0.07996138857654711\n",
            "Epoch 1/10\n"
          ]
        },
        {
          "output_type": "stream",
          "name": "stderr",
          "text": [
            "/usr/local/lib/python3.11/dist-packages/keras/src/layers/rnn/rnn.py:199: UserWarning: Do not pass an `input_shape`/`input_dim` argument to a layer. When using Sequential models, prefer using an `Input(shape)` object as the first layer in the model instead.\n",
            "  super().__init__(**kwargs)\n"
          ]
        },
        {
          "output_type": "stream",
          "name": "stdout",
          "text": [
            "\u001b[1m386/386\u001b[0m \u001b[32m━━━━━━━━━━━━━━━━━━━━\u001b[0m\u001b[37m\u001b[0m \u001b[1m4s\u001b[0m 7ms/step - loss: 0.2188 - val_loss: 0.0689\n",
            "Epoch 2/10\n",
            "\u001b[1m386/386\u001b[0m \u001b[32m━━━━━━━━━━━━━━━━━━━━\u001b[0m\u001b[37m\u001b[0m \u001b[1m2s\u001b[0m 6ms/step - loss: 0.0956 - val_loss: 0.0640\n",
            "Epoch 3/10\n",
            "\u001b[1m386/386\u001b[0m \u001b[32m━━━━━━━━━━━━━━━━━━━━\u001b[0m\u001b[37m\u001b[0m \u001b[1m2s\u001b[0m 6ms/step - loss: 0.1007 - val_loss: 0.0581\n",
            "Epoch 4/10\n",
            "\u001b[1m386/386\u001b[0m \u001b[32m━━━━━━━━━━━━━━━━━━━━\u001b[0m\u001b[37m\u001b[0m \u001b[1m3s\u001b[0m 8ms/step - loss: 0.0881 - val_loss: 0.0634\n",
            "Epoch 5/10\n",
            "\u001b[1m386/386\u001b[0m \u001b[32m━━━━━━━━━━━━━━━━━━━━\u001b[0m\u001b[37m\u001b[0m \u001b[1m4s\u001b[0m 6ms/step - loss: 0.0966 - val_loss: 0.0577\n",
            "Epoch 6/10\n",
            "\u001b[1m386/386\u001b[0m \u001b[32m━━━━━━━━━━━━━━━━━━━━\u001b[0m\u001b[37m\u001b[0m \u001b[1m3s\u001b[0m 6ms/step - loss: 0.0974 - val_loss: 0.0603\n",
            "Epoch 7/10\n",
            "\u001b[1m386/386\u001b[0m \u001b[32m━━━━━━━━━━━━━━━━━━━━\u001b[0m\u001b[37m\u001b[0m \u001b[1m2s\u001b[0m 6ms/step - loss: 0.0912 - val_loss: 0.0576\n",
            "Epoch 8/10\n",
            "\u001b[1m386/386\u001b[0m \u001b[32m━━━━━━━━━━━━━━━━━━━━\u001b[0m\u001b[37m\u001b[0m \u001b[1m3s\u001b[0m 8ms/step - loss: 0.0978 - val_loss: 0.0598\n",
            "Epoch 9/10\n",
            "\u001b[1m386/386\u001b[0m \u001b[32m━━━━━━━━━━━━━━━━━━━━\u001b[0m\u001b[37m\u001b[0m \u001b[1m4s\u001b[0m 6ms/step - loss: 0.1001 - val_loss: 0.0575\n",
            "Epoch 10/10\n",
            "\u001b[1m386/386\u001b[0m \u001b[32m━━━━━━━━━━━━━━━━━━━━\u001b[0m\u001b[37m\u001b[0m \u001b[1m2s\u001b[0m 6ms/step - loss: 0.0972 - val_loss: 0.0658\n",
            "\u001b[1m215/215\u001b[0m \u001b[32m━━━━━━━━━━━━━━━━━━━━\u001b[0m\u001b[37m\u001b[0m \u001b[1m1s\u001b[0m 3ms/step\n",
            "LSTM MSE: 0.08218802306764766\n"
          ]
        },
        {
          "output_type": "display_data",
          "data": {
            "text/plain": [
              "<Figure size 1400x600 with 1 Axes>"
            ],
            "image/png": "[encoded data removed]"
          },
          "metadata": {}
        }
      ]
    },
    {
      "cell_type": "markdown",
      "source": [
        "streamlit app"
      ],
      "metadata": {
        "id": "73OkGdqFQKXN"
      }
    },
    {
      "cell_type": "code",
      "source": [
        "!pip install streamlit"
      ],
      "metadata": {
        "colab": {
          "base_uri": "https://localhost:8080/"
        },
        "id": "9hhfiOI7QS97",
        "outputId": "e8082fb8-c139-4cbb-e550-6cb1e9ac5f62"
      },
      "execution_count": null,
      "outputs": [
        {
          "output_type": "stream",
          "name": "stdout",
          "text": [
            "Collecting streamlit\n",
            "  Downloading streamlit-1.48.1-py3-none-any.whl.metadata (9.5 kB)\n",
            "Requirement already satisfied: altair!=5.4.0,!=5.4.1,<6,>=4.0 in /usr/local/lib/python3.11/dist-packages (from streamlit) (5.5.0)\n",
            "Requirement already satisfied: blinker<2,>=1.5.0 in /usr/local/lib/python3.11/dist-packages (from streamlit) (1.9.0)\n",
            "Requirement already satisfied: cachetools<7,>=4.0 in /usr/local/lib/python3.11/dist-packages (from streamlit) (5.5.2)\n",
            "Requirement already satisfied: click<9,>=7.0 in /usr/local/lib/python3.11/dist-packages (from streamlit) (8.2.1)\n",
            "Requirement already satisfied: numpy<3,>=1.23 in /usr/local/lib/python3.11/dist-packages (from streamlit) (2.0.2)\n",
            "Requirement already satisfied: packaging<26,>=20 in /usr/local/lib/python3.11/dist-packages (from streamlit) (25.0)\n",
            "Requirement already satisfied: pandas<3,>=1.4.0 in /usr/local/lib/python3.11/dist-packages (from streamlit) (2.2.2)\n",
            "Requirement already satisfied: pillow<12,>=7.1.0 in /usr/local/lib/python3.11/dist-packages (from streamlit) (11.3.0)\n",
            "Requirement already satisfied: protobuf<7,>=3.20 in /usr/local/lib/python3.11/dist-packages (from streamlit) (5.29.5)\n",
            "Requirement already satisfied: pyarrow>=7.0 in /usr/local/lib/python3.11/dist-packages (from streamlit) (18.1.0)\n",
            "Requirement already satisfied: requests<3,>=2.27 in /usr/local/lib/python3.11/dist-packages (from streamlit) (2.32.3)\n",
            "Requirement already satisfied: tenacity<10,>=8.1.0 in /usr/local/lib/python3.11/dist-packages (from streamlit) (9.1.2)\n",
            "Requirement already satisfied: toml<2,>=0.10.1 in /usr/local/lib/python3.11/dist-packages (from streamlit) (0.10.2)\n",
            "Requirement already satisfied: typing-extensions<5,>=4.4.0 in /usr/local/lib/python3.11/dist-packages (from streamlit) (4.14.1)\n",
            "Collecting watchdog<7,>=2.1.5 (from streamlit)\n",
            "  Downloading watchdog-6.0.0-py3-none-manylinux2014_x86_64.whl.metadata (44 kB)\n",
            "\u001b[2K     \u001b[90m━━━━━━━━━━━━━━━━━━━━━━━━━━━━━━━━━━━━━━━━\u001b[0m \u001b[32m44.3/44.3 kB\u001b[0m \u001b[31m3.6 MB/s\u001b[0m eta \u001b[36m0:00:00\u001b[0m\n",
            "\u001b[?25hRequirement already satisfied: gitpython!=3.1.19,<4,>=3.0.7 in /usr/local/lib/python3.11/dist-packages (from streamlit) (3.1.45)\n",
            "Collecting pydeck<1,>=0.8.0b4 (from streamlit)\n",
            "  Downloading pydeck-0.9.1-py2.py3-none-any.whl.metadata (4.1 kB)\n",
            "Requirement already satisfied: tornado!=6.5.0,<7,>=6.0.3 in /usr/local/lib/python3.11/dist-packages (from streamlit) (6.4.2)\n",
            "Requirement already satisfied: jinja2 in /usr/local/lib/python3.11/dist-packages (from altair!=5.4.0,!=5.4.1,<6,>=4.0->streamlit) (3.1.6)\n",
            "Requirement already satisfied: jsonschema>=3.0 in /usr/local/lib/python3.11/dist-packages (from altair!=5.4.0,!=5.4.1,<6,>=4.0->streamlit) (4.25.0)\n",
            "Requirement already satisfied: narwhals>=1.14.2 in /usr/local/lib/python3.11/dist-packages (from altair!=5.4.0,!=5.4.1,<6,>=4.0->streamlit) (2.1.1)\n",
            "Requirement already satisfied: gitdb<5,>=4.0.1 in /usr/local/lib/python3.11/dist-packages (from gitpython!=3.1.19,<4,>=3.0.7->streamlit) (4.0.12)\n",
            "Requirement already satisfied: python-dateutil>=2.8.2 in /usr/local/lib/python3.11/dist-packages (from pandas<3,>=1.4.0->streamlit) (2.9.0.post0)\n",
            "Requirement already satisfied: pytz>=2020.1 in /usr/local/lib/python3.11/dist-packages (from pandas<3,>=1.4.0->streamlit) (2025.2)\n",
            "Requirement already satisfied: tzdata>=2022.7 in /usr/local/lib/python3.11/dist-packages (from pandas<3,>=1.4.0->streamlit) (2025.2)\n",
            "Requirement already satisfied: charset-normalizer<4,>=2 in /usr/local/lib/python3.11/dist-packages (from requests<3,>=2.27->streamlit) (3.4.3)\n",
            "Requirement already satisfied: idna<4,>=2.5 in /usr/local/lib/python3.11/dist-packages (from requests<3,>=2.27->streamlit) (3.10)\n",
            "Requirement already satisfied: urllib3<3,>=1.21.1 in /usr/local/lib/python3.11/dist-packages (from requests<3,>=2.27->streamlit) (2.5.0)\n",
            "Requirement already satisfied: certifi>=2017.4.17 in /usr/local/lib/python3.11/dist-packages (from requests<3,>=2.27->streamlit) (2025.8.3)\n",
            "Requirement already satisfied: smmap<6,>=3.0.1 in /usr/local/lib/python3.11/dist-packages (from gitdb<5,>=4.0.1->gitpython!=3.1.19,<4,>=3.0.7->streamlit) (5.0.2)\n",
            "Requirement already satisfied: MarkupSafe>=2.0 in /usr/local/lib/python3.11/dist-packages (from jinja2->altair!=5.4.0,!=5.4.1,<6,>=4.0->streamlit) (3.0.2)\n",
            "Requirement already satisfied: attrs>=22.2.0 in /usr/local/lib/python3.11/dist-packages (from jsonschema>=3.0->altair!=5.4.0,!=5.4.1,<6,>=4.0->streamlit) (25.3.0)\n",
            "Requirement already satisfied: jsonschema-specifications>=2023.03.6 in /usr/local/lib/python3.11/dist-packages (from jsonschema>=3.0->altair!=5.4.0,!=5.4.1,<6,>=4.0->streamlit) (2025.4.1)\n",
            "Requirement already satisfied: referencing>=0.28.4 in /usr/local/lib/python3.11/dist-packages (from jsonschema>=3.0->altair!=5.4.0,!=5.4.1,<6,>=4.0->streamlit) (0.36.2)\n",
            "Requirement already satisfied: rpds-py>=0.7.1 in /usr/local/lib/python3.11/dist-packages (from jsonschema>=3.0->altair!=5.4.0,!=5.4.1,<6,>=4.0->streamlit) (0.27.0)\n",
            "Requirement already satisfied: six>=1.5 in /usr/local/lib/python3.11/dist-packages (from python-dateutil>=2.8.2->pandas<3,>=1.4.0->streamlit) (1.17.0)\n",
            "Downloading streamlit-1.48.1-py3-none-any.whl (9.9 MB)\n",
            "\u001b[2K   \u001b[90m━━━━━━━━━━━━━━━━━━━━━━━━━━━━━━━━━━━━━━━━\u001b[0m \u001b[32m9.9/9.9 MB\u001b[0m \u001b[31m81.7 MB/s\u001b[0m eta \u001b[36m0:00:00\u001b[0m\n",
            "\u001b[?25hDownloading pydeck-0.9.1-py2.py3-none-any.whl (6.9 MB)\n",
            "\u001b[2K   \u001b[90m━━━━━━━━━━━━━━━━━━━━━━━━━━━━━━━━━━━━━━━━\u001b[0m \u001b[32m6.9/6.9 MB\u001b[0m \u001b[31m108.1 MB/s\u001b[0m eta \u001b[36m0:00:00\u001b[0m\n",
            "\u001b[?25hDownloading watchdog-6.0.0-py3-none-manylinux2014_x86_64.whl (79 kB)\n",
            "\u001b[2K   \u001b[90m━━━━━━━━━━━━━━━━━━━━━━━━━━━━━━━━━━━━━━━━\u001b[0m \u001b[32m79.1/79.1 kB\u001b[0m \u001b[31m11.1 MB/s\u001b[0m eta \u001b[36m0:00:00\u001b[0m\n",
            "\u001b[?25hInstalling collected packages: watchdog, pydeck, streamlit\n",
            "Successfully installed pydeck-0.9.1 streamlit-1.48.1 watchdog-6.0.0\n"
          ]
        }
      ]
    },
    {
      "cell_type": "code",
      "source": [
        "!pip install streamlit pyngrok\n"
      ],
      "metadata": {
        "colab": {
          "base_uri": "https://localhost:8080/"
        },
        "id": "5DwLVqjUTf5Y",
        "outputId": "70cd6fda-9e0c-4bfb-9664-3751437f5d74"
      },
      "execution_count": null,
      "outputs": [
        {
          "output_type": "stream",
          "name": "stdout",
          "text": [
            "Requirement already satisfied: streamlit in /usr/local/lib/python3.11/dist-packages (1.48.1)\n",
            "Requirement already satisfied: pyngrok in /usr/local/lib/python3.11/dist-packages (7.3.0)\n",
            "Requirement already satisfied: altair!=5.4.0,!=5.4.1,<6,>=4.0 in /usr/local/lib/python3.11/dist-packages (from streamlit) (5.5.0)\n",
            "Requirement already satisfied: blinker<2,>=1.5.0 in /usr/local/lib/python3.11/dist-packages (from streamlit) (1.9.0)\n",
            "Requirement already satisfied: cachetools<7,>=4.0 in /usr/local/lib/python3.11/dist-packages (from streamlit) (5.5.2)\n",
            "Requirement already satisfied: click<9,>=7.0 in /usr/local/lib/python3.11/dist-packages (from streamlit) (8.2.1)\n",
            "Requirement already satisfied: numpy<3,>=1.23 in /usr/local/lib/python3.11/dist-packages (from streamlit) (2.0.2)\n",
            "Requirement already satisfied: packaging<26,>=20 in /usr/local/lib/python3.11/dist-packages (from streamlit) (25.0)\n",
            "Requirement already satisfied: pandas<3,>=1.4.0 in /usr/local/lib/python3.11/dist-packages (from streamlit) (2.2.2)\n",
            "Requirement already satisfied: pillow<12,>=7.1.0 in /usr/local/lib/python3.11/dist-packages (from streamlit) (11.3.0)\n",
            "Requirement already satisfied: protobuf<7,>=3.20 in /usr/local/lib/python3.11/dist-packages (from streamlit) (5.29.5)\n",
            "Requirement already satisfied: pyarrow>=7.0 in /usr/local/lib/python3.11/dist-packages (from streamlit) (18.1.0)\n",
            "Requirement already satisfied: requests<3,>=2.27 in /usr/local/lib/python3.11/dist-packages (from streamlit) (2.32.3)\n",
            "Requirement already satisfied: tenacity<10,>=8.1.0 in /usr/local/lib/python3.11/dist-packages (from streamlit) (9.1.2)\n",
            "Requirement already satisfied: toml<2,>=0.10.1 in /usr/local/lib/python3.11/dist-packages (from streamlit) (0.10.2)\n",
            "Requirement already satisfied: typing-extensions<5,>=4.4.0 in /usr/local/lib/python3.11/dist-packages (from streamlit) (4.14.1)\n",
            "Requirement already satisfied: watchdog<7,>=2.1.5 in /usr/local/lib/python3.11/dist-packages (from streamlit) (6.0.0)\n",
            "Requirement already satisfied: gitpython!=3.1.19,<4,>=3.0.7 in /usr/local/lib/python3.11/dist-packages (from streamlit) (3.1.45)\n",
            "Requirement already satisfied: pydeck<1,>=0.8.0b4 in /usr/local/lib/python3.11/dist-packages (from streamlit) (0.9.1)\n",
            "Requirement already satisfied: tornado!=6.5.0,<7,>=6.0.3 in /usr/local/lib/python3.11/dist-packages (from streamlit) (6.4.2)\n",
            "Requirement already satisfied: PyYAML>=5.1 in /usr/local/lib/python3.11/dist-packages (from pyngrok) (6.0.2)\n",
            "Requirement already satisfied: jinja2 in /usr/local/lib/python3.11/dist-packages (from altair!=5.4.0,!=5.4.1,<6,>=4.0->streamlit) (3.1.6)\n",
            "Requirement already satisfied: jsonschema>=3.0 in /usr/local/lib/python3.11/dist-packages (from altair!=5.4.0,!=5.4.1,<6,>=4.0->streamlit) (4.25.0)\n",
            "Requirement already satisfied: narwhals>=1.14.2 in /usr/local/lib/python3.11/dist-packages (from altair!=5.4.0,!=5.4.1,<6,>=4.0->streamlit) (2.1.1)\n",
            "Requirement already satisfied: gitdb<5,>=4.0.1 in /usr/local/lib/python3.11/dist-packages (from gitpython!=3.1.19,<4,>=3.0.7->streamlit) (4.0.12)\n",
            "Requirement already satisfied: python-dateutil>=2.8.2 in /usr/local/lib/python3.11/dist-packages (from pandas<3,>=1.4.0->streamlit) (2.9.0.post0)\n",
            "Requirement already satisfied: pytz>=2020.1 in /usr/local/lib/python3.11/dist-packages (from pandas<3,>=1.4.0->streamlit) (2025.2)\n",
            "Requirement already satisfied: tzdata>=2022.7 in /usr/local/lib/python3.11/dist-packages (from pandas<3,>=1.4.0->streamlit) (2025.2)\n",
            "Requirement already satisfied: charset-normalizer<4,>=2 in /usr/local/lib/python3.11/dist-packages (from requests<3,>=2.27->streamlit) (3.4.3)\n",
            "Requirement already satisfied: idna<4,>=2.5 in /usr/local/lib/python3.11/dist-packages (from requests<3,>=2.27->streamlit) (3.10)\n",
            "Requirement already satisfied: urllib3<3,>=1.21.1 in /usr/local/lib/python3.11/dist-packages (from requests<3,>=2.27->streamlit) (2.5.0)\n",
            "Requirement already satisfied: certifi>=2017.4.17 in /usr/local/lib/python3.11/dist-packages (from requests<3,>=2.27->streamlit) (2025.8.3)\n",
            "Requirement already satisfied: smmap<6,>=3.0.1 in /usr/local/lib/python3.11/dist-packages (from gitdb<5,>=4.0.1->gitpython!=3.1.19,<4,>=3.0.7->streamlit) (5.0.2)\n",
            "Requirement already satisfied: MarkupSafe>=2.0 in /usr/local/lib/python3.11/dist-packages (from jinja2->altair!=5.4.0,!=5.4.1,<6,>=4.0->streamlit) (3.0.2)\n",
            "Requirement already satisfied: attrs>=22.2.0 in /usr/local/lib/python3.11/dist-packages (from jsonschema>=3.0->altair!=5.4.0,!=5.4.1,<6,>=4.0->streamlit) (25.3.0)\n",
            "Requirement already satisfied: jsonschema-specifications>=2023.03.6 in /usr/local/lib/python3.11/dist-packages (from jsonschema>=3.0->altair!=5.4.0,!=5.4.1,<6,>=4.0->streamlit) (2025.4.1)\n",
            "Requirement already satisfied: referencing>=0.28.4 in /usr/local/lib/python3.11/dist-packages (from jsonschema>=3.0->altair!=5.4.0,!=5.4.1,<6,>=4.0->streamlit) (0.36.2)\n",
            "Requirement already satisfied: rpds-py>=0.7.1 in /usr/local/lib/python3.11/dist-packages (from jsonschema>=3.0->altair!=5.4.0,!=5.4.1,<6,>=4.0->streamlit) (0.27.0)\n",
            "Requirement already satisfied: six>=1.5 in /usr/local/lib/python3.11/dist-packages (from python-dateutil>=2.8.2->pandas<3,>=1.4.0->streamlit) (1.17.0)\n"
          ]
        }
      ]
    },
    {
      "cell_type": "code",
      "source": [
        "%%writefile app.py\n",
        "import streamlit as st\n",
        "import pandas as pd\n",
        "import numpy as np\n",
        "import h5py\n",
        "import matplotlib.pyplot as plt\n",
        "from sklearn.preprocessing import StandardScaler\n",
        "from xgboost import XGBRegressor\n",
        "import tensorflow as tf\n",
        "from tensorflow.keras.models import Sequential\n",
        "from tensorflow.keras.layers import LSTM, Dense\n",
        "\n",
        "# ---------------- Load Dataset ----------------\n",
        "@st.cache_data\n",
        "def load_data(file_path):\n",
        "    with h5py.File(file_path, 'r') as f:\n",
        "        data_group = f['df']\n",
        "        data = data_group['block0_values'][:]\n",
        "        timestamps = data_group['axis1'][:]\n",
        "    timestamps = pd.to_datetime(timestamps, unit=\"ns\")\n",
        "    df = pd.DataFrame(data, index=timestamps)\n",
        "    df.index.name = \"timestamp\"\n",
        "    return df\n",
        "\n",
        "df = load_data(\"METR-LA.h5\")   # <-- keep dataset in same folder\n",
        "st.title(\"🚦 AI-Driven Traffic Flow Optimization\")\n",
        "st.write(\"Using **XGBoost & LSTM** to predict traffic flow from METR-LA dataset.\")\n",
        "\n",
        "# ---------------- User Inputs ----------------\n",
        "sensor_id = st.selectbox(\"Select Sensor ID\", range(df.shape[1]), index=0)\n",
        "sequence_length = st.slider(\"Sequence Length (minutes)\", 6, 24, 12)\n",
        "\n",
        "# ---------------- Data Preparation ----------------\n",
        "traffic_series = df.iloc[:, sensor_id].values\n",
        "scaler = StandardScaler()\n",
        "traffic_scaled = scaler.fit_transform(traffic_series.reshape(-1,1))\n",
        "\n",
        "def create_dataset(series, seq_length=12):\n",
        "    X, y = [], []\n",
        "    for i in range(len(series) - seq_length):\n",
        "        X.append(series[i:i+seq_length])\n",
        "        y.append(series[i+seq_length])\n",
        "    return np.array(X), np.array(y)\n",
        "\n",
        "X, y = create_dataset(traffic_scaled, seq_length=sequence_length)\n",
        "split = int(len(X) * 0.8)\n",
        "X_train, X_test = X[:split], X[split:]\n",
        "y_train, y_test = y[:split], y[split:]\n",
        "\n",
        "# ---------------- XGBoost Model ----------------\n",
        "X_train_flat = X_train.reshape(X_train.shape[0], -1)\n",
        "X_test_flat = X_test.reshape(X_test.shape[0], -1)\n",
        "\n",
        "xgb_model = XGBRegressor(n_estimators=100, learning_rate=0.1, max_depth=5)\n",
        "xgb_model.fit(X_train_flat, y_train)\n",
        "y_pred_xgb = xgb_model.predict(X_test_flat)\n",
        "\n",
        "# ---------------- LSTM Model ----------------\n",
        "lstm_model = Sequential([\n",
        "    LSTM(64, activation='relu', input_shape=(sequence_length, 1)),\n",
        "    Dense(1)\n",
        "])\n",
        "lstm_model.compile(optimizer='adam', loss='mse')\n",
        "lstm_model.fit(X_train, y_train, epochs=3, batch_size=64, verbose=0)\n",
        "y_pred_lstm = lstm_model.predict(X_test)\n",
        "\n",
        "# ---------------- Visualization ----------------\n",
        "st.subheader(\"Traffic Flow Prediction (Sensor {})\".format(sensor_id))\n",
        "fig, ax = plt.subplots(figsize=(12,5))\n",
        "ax.plot(y_test[:200], label=\"Actual\", linewidth=2)\n",
        "ax.plot(y_pred_xgb[:200], label=\"XGBoost Prediction\", alpha=0.7)\n",
        "ax.plot(y_pred_lstm[:200], label=\"LSTM Prediction\", alpha=0.7)\n",
        "ax.legend()\n",
        "st.pyplot(fig)\n",
        "\n",
        "# ---------------- Metrics ----------------\n",
        "from sklearn.metrics import mean_squared_error\n",
        "st.write(\"📊 **XGBoost MSE:**\", mean_squared_error(y_test, y_pred_xgb))\n",
        "st.write(\"📊 **LSTM MSE:**\", mean_squared_error(y_test, y_pred_lstm))"
      ],
      "metadata": {
        "colab": {
          "base_uri": "https://localhost:8080/"
        },
        "id": "0nvH48gTQOyu",
        "outputId": "e493cb0a-ea3a-4e67-cf20-9726b6935d1a"
      },
      "execution_count": null,
      "outputs": [
        {
          "output_type": "stream",
          "name": "stdout",
          "text": [
            "Overwriting app.py\n"
          ]
        }
      ]
    },
    {
      "cell_type": "code",
      "source": [
        "!streamlit run app.py &>/content/logs.txt & curl ipv4.icanhazip.com"
      ],
      "metadata": {
        "id": "lzoEvjDxT7Nt",
        "colab": {
          "base_uri": "https://localhost:8080/"
        },
        "outputId": "650195e3-a75a-4a6b-b2c0-8793573d6c4a"
      },
      "execution_count": 50,
      "outputs": [
        {
          "output_type": "stream",
          "name": "stdout",
          "text": [
            "34.169.62.194\n"
          ]
        }
      ]
    },
    {
      "cell_type": "code",
      "source": [
        "!streamlit run app.py --server.port 8501 & npx localtunnel --port 8501\n"
      ],
      "metadata": {
        "colab": {
          "base_uri": "https://localhost:8080/"
        },
        "id": "k064Y9S7Vpei",
        "outputId": "c55a2b40-3e8b-4130-f903-203f9920849e"
      },
      "execution_count": null,
      "outputs": [
        {
          "output_type": "stream",
          "name": "stdout",
          "text": [
            "\n",
            "Collecting usage statistics. To deactivate, set browser.gatherUsageStats to false.\n",
            "\u001b[0m\n",
            "2025-08-19 08:01:12.392 Port 8501 is already in use\n",
            "\u001b[1G\u001b[0K⠙\u001b[1G\u001b[0K⠹\u001b[1G\u001b[0K⠸\u001b[1G\u001b[0K⠼\u001b[1G\u001b[0K⠴\u001b[1G\u001b[0K⠦\u001b[1G\u001b[0K⠧\u001b[1G\u001b[0K⠇\u001b[1G\u001b[0Kyour url is: https://rich-gifts-buy.loca.lt\n"
          ]
        }
      ]
    },
    {
      "cell_type": "code",
      "source": [],
      "metadata": {
        "id": "FUPzZQ8wV5RI"
      },
      "execution_count": null,
      "outputs": []
    }
  ]
}